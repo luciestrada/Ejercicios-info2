{
  "cells": [
    {
      "cell_type": "code",
      "execution_count": 4,
      "metadata": {
        "colab": {
          "base_uri": "https://localhost:8080/"
        },
        "id": "1Zy8n8PrELJl",
        "outputId": "02e9986d-2ccc-4746-eba6-cc7824549c29"
      },
      "outputs": [
        {
          "name": "stdout",
          "output_type": "stream",
          "text": [
            "1. Registrar Paciente\n",
            "2. Calcular problemas neurologicos\n",
            "3. Salir\n",
            "Paciente agregado\n",
            "1. Registrar Paciente\n",
            "2. Calcular problemas neurologicos\n",
            "3. Salir\n",
            "Determinando problemas neurológicos...\n",
            "juan no tiene un problema neurológico.\n",
            "1. Registrar Paciente\n",
            "2. Calcular problemas neurologicos\n",
            "3. Salir\n",
            "Menu finalizado\n"
          ]
        }
      ],
      "source": [
        "class pacientes: #clase padre\n",
        "    def __init__(self, nombre, edad):#atributos de los pacientes\n",
        "        self.nombre=nombre\n",
        "        self.edad = edad\n",
        "        self._resultados= [] #porque los resultados de cada paciente se acumulan\n",
        "\n",
        "    @property #para acceder a los atributos privados\n",
        "    def resultados (self):\n",
        "        return self._resultados\n",
        "    @resultados.setter\n",
        "    def resultados (self, resultados):\n",
        "        self._resultados= resultados\n",
        "\n",
        "#funcionalidades del sistema\n",
        "    def calcular_promedio(self):\n",
        "      if not self.resultados:#revisa si hay resultados en la lista y sino es 0, para que no dé indefinido\n",
        "        return 0\n",
        "      else:\n",
        "        return sum(self.resultados) / len(self.resultados)#suma los resultados y los divide por la cantidad  de resultados\n",
        "\n",
        "#resultados de las pruebas\n",
        "class pacientesNeuro(pacientes): #----clase hija de los pacientes\n",
        "    def __init__(self, nombre, edad):\n",
        "      super().__init__(nombre, edad)#coge los atributos de los pacientes\n",
        "\n",
        "    def problemasNeuro(self,limite): #metodo de los limites de los resultados, problemas neurologicos\n",
        "        promedio = self.calcular_promedio() #el promedio es=\n",
        "        if promedio > limite:#si el promedio es mayor que el limite\n",
        "            return True\n",
        "        else:\n",
        "            return False\n",
        "\n",
        "#clase para mirar si los pacientes ya están o no, creo que se podría hacer sin la clase, solo con un método\n",
        "class sistemaRegristo:\n",
        "    def __init__(self):\n",
        "        self.pacientes=[] #En el registro necesito almacenar los pacientes\n",
        "\n",
        "    def registrar(self, paciente):\n",
        "      if paciente in self.pacientes:#revisar si está el paciente\n",
        "        print('El paciente ya está registrado')\n",
        "      else:\n",
        "        self.pacientes.append(paciente) #sino se agrega a la lista \n",
        "        print('Paciente agregado')\n",
        "\n",
        "    def problemasNeurologicos(self, limite):#poner en el menú, o no se puede por las clases.\n",
        "        if self.pacientes:#self.pacientes, es la lista donde estan guardados los pacientes.\n",
        "            print(\"Determinando problemas neurológicos...\")\n",
        "            for paciente in self.pacientes:\n",
        "                promedio = paciente.calcular_promedio()\n",
        "                if paciente.problemasNeuro(limite):\n",
        "                    print(f\"{paciente.nombre} tiene un problema neurológico.\")\n",
        "                else:\n",
        "                    print(f\"{paciente.nombre} no tiene un problema neurológico.\")\n",
        "        else:\n",
        "            print(\"No hay pacientes registrados.\")\n",
        "\n",
        "sistema_registro = sistemaRegristo() #se crea la variable para poder acceder a los metodos\n",
        "while True:\n",
        "    print(\"1. Registrar Paciente\")\n",
        "    print(\"2. Calcular problemas neurologicos\")\n",
        "    print (\"3. Salir\")\n",
        "    menu=input(\"Ingresar opción:\")\n",
        "\n",
        "    if menu ==\"1\":\n",
        "      nombre = input(\"Ingrese el nombre del paciente: \")\n",
        "      edad = input(\"Ingresar la edad del paciente: \")\n",
        "      resultado = float(input(\"Ingresar el resultado de la prueba neurológica: \"))\n",
        "      nuevo_paciente = pacientesNeuro(nombre, edad)\n",
        "      nuevo_paciente.resultados.append(resultado) #añadir el resultado de pacientes en paciente\n",
        "      sistema_registro.registrar(nuevo_paciente)\n",
        "\n",
        "    elif menu ==\"2\":\n",
        "        limite = float(input(\"Ingrese el valor límite para definir si hay un problema neurológico: \"))\n",
        "        sistema_registro.problemasNeurologicos(limite)\n",
        "    elif menu ==\"3\":\n",
        "        print(\"Menu finalizado\")\n",
        "        break\n",
        "    else:\n",
        "        print(\"opción invalida, vuelva a intentarlo\")\n"
      ]
    }
  ],
  "metadata": {
    "colab": {
      "provenance": []
    },
    "kernelspec": {
      "display_name": "Python 3",
      "name": "python3"
    },
    "language_info": {
      "codemirror_mode": {
        "name": "ipython",
        "version": 3
      },
      "file_extension": ".py",
      "mimetype": "text/x-python",
      "name": "python",
      "nbconvert_exporter": "python",
      "pygments_lexer": "ipython3",
      "version": "3.11.4"
    }
  },
  "nbformat": 4,
  "nbformat_minor": 0
}
