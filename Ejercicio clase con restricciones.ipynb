{
 "cells": [
  {
   "cell_type": "code",
   "execution_count": 8,
   "metadata": {},
   "outputs": [],
   "source": [
    "class Persona:\n",
    "    def __init__(self, nombre, edad, genero):\n",
    "        self.nombre = nombre\n",
    "        self.edad = edad\n",
    "        self.genero = genero\n",
    "\n",
    "class Paciente(Persona):\n",
    "    total_pacientes = 0\n",
    "\n",
    "    def __init__(self, nombre, edad, genero, historia_clinica):\n",
    "        super().__init__(nombre, edad, genero)\n",
    "        self.historia_clinica = historia_clinica\n",
    "        Paciente.total_pacientes += 1\n",
    "\n",
    "class Doctor(Persona):\n",
    "    def __init__(self, nombre, edad, genero, especialidad):\n",
    "        super().__init__(nombre, edad, genero)\n",
    "        self.especialidad = especialidad\n",
    "\n",
    "class Hospital:\n",
    "    def __init__(self, nombre, ubicacion):\n",
    "        self.nombre = nombre\n",
    "        self.ubicacion = ubicacion\n",
    "        self.total_pacientes = 0\n",
    "        self.lista_pacientes = []\n",
    "        self.lista_doctores = []\n",
    "\n",
    "    def ingresar_paciente(self, paciente):\n",
    "        if type(paciente.edad) != int: #La edad tiene que ser un entero\n",
    "            print(\"Error: La edad debe ser un número.\")\n",
    "            return\n",
    "        for p in self.lista_pacientes: #p es un elemento que recorre y busca si está\n",
    "            if p.historia_clinica == paciente.historia_clinica:\n",
    "                print(\"Error: Ya existe un paciente con el mismo número de historia clínica.\")\n",
    "                return\n",
    "        if self.total_pacientes >= 10:#Restricción ejercicio, solo se pueden 10 pacientes\n",
    "            print(\"Error: El hospital ha alcanzado su capacidad máxima de pacientes.\")\n",
    "            return\n",
    "        self.lista_pacientes.append(paciente)#agregar a la lista de pacientes\n",
    "        self.total_pacientes += 1 #Se agregan a la variable total_pacientes, que está en 0, cada vez que se agrega se le añade 1\n",
    "\n",
    "    def ingresar_doctor(self, doctor):\n",
    "        if type(doctor.edad) != int: #La edad tiene que ser un entero\n",
    "            print(\"Error: La edad debe ser un número.\")\n",
    "            return\n",
    "        self.lista_doctores.append(doctor) #agregar a la lista de doctores\n",
    "\n",
    "\n",
    "class ConsultaMedica:\n",
    "    def __init__(self, doctor, paciente, fecha):\n",
    "        self.doctor = doctor\n",
    "        self.paciente = paciente\n",
    "        self.fecha = fecha\n",
    "\n",
    "    def mostrar_informacion(self):\n",
    "        print(\"Consulta Médica:\")\n",
    "        print(\"Fecha:\", self.fecha)\n",
    "        print(\"Doctor:\", self.doctor.nombre)\n",
    "        print(\"Especialidad:\", self.doctor.especialidad)\n",
    "        print(\"Paciente:\", self.paciente.nombre)\n",
    "        print(\"Edad del Paciente:\", self.paciente.edad)\n",
    "        print(\"Género del Paciente:\", self.paciente.genero)\n",
    "\n",
    "\n"
   ]
  },
  {
   "cell_type": "code",
   "execution_count": 9,
   "metadata": {},
   "outputs": [
    {
     "name": "stdout",
     "output_type": "stream",
     "text": [
      "Consulta Médica:\n",
      "Fecha: 2024-03-11\n",
      "Doctor: Dr. Pérez\n",
      "Especialidad: Cardiología\n",
      "Paciente: Juan\n",
      "Edad del Paciente: 25\n",
      "Género del Paciente: Masculino\n",
      "Total de pacientes en el hospital: 1\n"
     ]
    }
   ],
   "source": [
    "# Ejemplo , aunque seria mejor hacer como un menú\n",
    "\n",
    "paciente1 = Paciente(\"Juan\", 25, \"Masculino\", \"HC001\")\n",
    "doctor1 = Doctor(\"Dr. Pérez\", 40, \"Masculino\", \"Cardiología\")\n",
    "hospital = Hospital(\"Hospital General\", \"Ciudad X\")\n",
    "\n",
    "hospital.ingresar_paciente(paciente1)\n",
    "hospital.ingresar_doctor(doctor1)\n",
    "\n",
    "consulta1 = ConsultaMedica(doctor1, paciente1, \"2024-03-11\")\n",
    "consulta1.mostrar_informacion()\n",
    "\n",
    "print(\"Total de pacientes en el hospital:\", hospital.total_pacientes)"
   ]
  }
 ],
 "metadata": {
  "kernelspec": {
   "display_name": "base",
   "language": "python",
   "name": "python3"
  },
  "language_info": {
   "codemirror_mode": {
    "name": "ipython",
    "version": 3
   },
   "file_extension": ".py",
   "mimetype": "text/x-python",
   "name": "python",
   "nbconvert_exporter": "python",
   "pygments_lexer": "ipython3",
   "version": "3.11.4"
  }
 },
 "nbformat": 4,
 "nbformat_minor": 2
}
